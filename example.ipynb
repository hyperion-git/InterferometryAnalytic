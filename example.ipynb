{
 "cells": [
  {
   "cell_type": "code",
   "execution_count": 50,
   "id": "c55b109a",
   "metadata": {},
   "outputs": [],
   "source": [
    "# jupyter notebook with an example for an interferometer calculation\n",
    "import sympy as sy\n",
    "from sympy import I\n",
    "from IPython.display import Latex\n",
    "sy.init_printing()\n",
    "\n",
    "from Interferometry import Interferometer, Hamiltonian, Pulse, U\n",
    "\n",
    "# define symbolic variables\n",
    "m1,m2,g1,g2,k,T,m,gmag,ggrav,wtrap,gravgrad1,gravgrad2,xtrap,Twait=sy.symbols(\"m1,m2,g1,g2,k,T,m,g_m,g,Ω,γ1,γ2,x_\\Omega,T_w\")"
   ]
  },
  {
   "cell_type": "markdown",
   "id": "6bc898ec",
   "metadata": {},
   "source": [
    "\n",
    "\n",
    "Define Hamiltonians by passing a parameter list [a,b,c,d,e,f]\n",
    " corresponding to the Hamiltonian\n",
    " $H=a p^2 + b p +c(px+xp) + d x + e + f x^2$ \n",
    " "
   ]
  },
  {
   "cell_type": "code",
   "execution_count": 49,
   "id": "4bd16e9f",
   "metadata": {},
   "outputs": [
    {
     "name": "stdout",
     "output_type": "stream",
     "text": [
      "Hamiltonian is:\n"
     ]
    },
    {
     "data": {
      "image/png": "[encoded data removed]",
      "text/latex": [
       "$\\displaystyle \\frac{\\hat{1} m x_{\\Omega}^{2} Ω^{2}}{2} + \\frac{\\hat{p}^{2}}{2 m} + \\frac{\\hat{x}^{2} m Ω^{2}}{2} + \\hat{x} \\left(g m + g_{m} m - m x_{\\Omega} Ω^{2}\\right)$"
      ],
      "text/plain": [
       "                  2  2          2          2    2                             \n",
       "\\hat{1}⋅m⋅x_\\Omega ⋅Ω    \\hat{p}    \\hat{x} ⋅m⋅Ω            ⎛                 \n",
       "────────────────────── + ──────── + ───────────── + \\hat{x}⋅⎝g⋅m + gₘ⋅m - m⋅x_\n",
       "          2                2⋅m            2                                   \n",
       "\n",
       "          \n",
       "        2⎞\n",
       "\\Omega⋅Ω ⎠\n",
       "          "
      ]
     },
     "metadata": {},
     "output_type": "display_data"
    },
    {
     "name": "stdout",
     "output_type": "stream",
     "text": [
      "\n"
     ]
    },
    {
     "data": {
      "image/png": "[encoded data removed]",
      "text/latex": [
       "$\\displaystyle 0$"
      ],
      "text/plain": [
       "0"
      ]
     },
     "metadata": {},
     "output_type": "display_data"
    },
    {
     "name": "stdout",
     "output_type": "stream",
     "text": [
      "\n"
     ]
    }
   ],
   "source": [
    "H=Hamiltonian([1/(2*m), 0,0,m*ggrav+m*gmag-m*wtrap**2*xtrap,m/2*wtrap**2 *xtrap**2,m/2*wtrap**2])\n",
    "#H=Hamiltonian([1/(2*m), 0,0,m*ggrav,0,0])\n",
    "IdGen =Hamiltonian([0,0,0,0,0,0])\n",
    "print('Hamiltonian is:')         \n",
    "print(H)\n",
    "print(IdGen)"
   ]
  },
  {
   "cell_type": "markdown",
   "id": "95e1618c",
   "metadata": {},
   "source": [
    "Define upper and lower sequence (note the ordering of operators is the same as if acting on a initial ket state)"
   ]
  },
  {
   "cell_type": "code",
   "execution_count": 51,
   "id": "a4c2d5f8",
   "metadata": {},
   "outputs": [],
   "source": [
    "upperSequenceA=[U(H,T),  Pulse(-k), U(H,T), Pulse(k),  U(H,Twait)] \n",
    "lowerSequenceA=[Pulse(-k),  U(H,T),  Pulse(k), U(H,T), U(H,Twait)]\n",
    "upperSequenceB=[U(IdGen,0), U(H,T), Pulse(-k), U(H,T),U(IdGen,0),U(H,Twait),Pulse(k)] \n",
    "lowerSequenceB=[Pulse(-k),U(H,T),  Pulse(k),  U(H,T), Pulse(-k), U(H,Twait),Pulse(k)]"
   ]
  },
  {
   "cell_type": "markdown",
   "id": "4d2c4eb2",
   "metadata": {},
   "source": [
    "Initialize an interferometer object with the upper and lower sequence"
   ]
  },
  {
   "cell_type": "code",
   "execution_count": null,
   "id": "c043fdc1",
   "metadata": {},
   "outputs": [],
   "source": [
    "IA=Interferometer(upperSequenceA, lowerSequenceA, 8)\n",
    "IB=Interferometer(upperSequenceB, lowerSequenceB, 8)\n",
    "#calculate overlap operator\n",
    "resdictA,resA=IA.overlap()\n",
    "resdictB,resB=IB.overlap()"
   ]
  },
  {
   "cell_type": "code",
   "execution_count": null,
   "id": "ab70c44a",
   "metadata": {},
   "outputs": [],
   "source": [
    "# Clean up and expand everything in interferometer duration\n",
    "expansionVariables = [T,Twait,wtrap]\n",
    "expansionOrders = [4,4,4]\n",
    "expansionPars = list(zip(expansionVariables,expansionOrders))\n",
    "expansionFunsA = [resA.a, resA.b, resA.c, resA.d, resA.e, resA.f]\n",
    "expansionFunsB = [resB.a, resB.b, resB.c, resB.d, resB.e, resB.f]\n",
    "\n",
    "def expandResults(fun, expansionPars):\n",
    "    tmpfun=type(fun)\n",
    "    \n",
    "    for item in expansionPars:\n",
    "        tmpfun = sy.expand(sy.series(fun,item[0],0,n=item[1])).removeO()\n",
    "\n",
    "    return tmpfun\n",
    "    \n",
    "resultA = [expandResults(item,expansionPars) for item in expansionFunsA]\n",
    "resultB = [expandResults(item,expansionPars) for item in expansionFunsB]"
   ]
  },
  {
   "cell_type": "code",
   "execution_count": null,
   "id": "f9313b2e",
   "metadata": {},
   "outputs": [],
   "source": [
    "Latex(f\"\"\"\n",
    "\\\\begin{{align}}\n",
    "    &\\\\hat{{p}}^2 & {{{sy.latex(resultA[0])}}} \\\\\\\\\n",
    "    &\\\\hat{{p}} & {{{sy.latex(resultA[1])}}} \\\\\\\\\n",
    "    &\\\\hat{{p}}\\\\hat{{x}}+\\\\hat{{x}}\\\\hat{{p}} & {{{sy.latex(resultA[2])}}} \\\\\\\\\n",
    "    &\\\\hat{{x}} & {{{sy.latex(resultA[3])}}} \\\\\\\\\n",
    "    &\\\\hat{{x}}^2 & {{{sy.latex(resultA[5])}}}\\\\\\\\\n",
    "    &\\\\hat{{1}} & {{{sy.latex(resultA[4])}}}\n",
    "\\\\end{{align}}\n",
    "\"\"\")"
   ]
  },
  {
   "cell_type": "code",
   "execution_count": 43,
   "id": "bdf475ec",
   "metadata": {},
   "outputs": [
    {
     "data": {
      "text/latex": [
       "\n",
       "\\begin{align}\n",
       "    &\\hat{p}^2 & {0} \\\\\n",
       "    &\\hat{p} & {0} \\\\\n",
       "    &\\hat{p}\\hat{x}+\\hat{x}\\hat{p} & {0} \\\\\n",
       "    &\\hat{x} & {0} \\\\\n",
       "    &\\hat{x}^2 & {0}\\\\\n",
       "    &\\hat{1} & {- i T^{2} g k}\n",
       "\\end{align}\n"
      ],
      "text/plain": [
       "<IPython.core.display.Latex object>"
      ]
     },
     "execution_count": 43,
     "metadata": {},
     "output_type": "execute_result"
    }
   ],
   "source": [
    "Latex(f\"\"\"\n",
    "\\\\begin{{align}}\n",
    "    &\\\\hat{{p}}^2 & {{{sy.latex(resultB[0])}}} \\\\\\\\\n",
    "    &\\\\hat{{p}} & {{{sy.latex(resultB[1])}}} \\\\\\\\\n",
    "    &\\\\hat{{p}}\\\\hat{{x}}+\\\\hat{{x}}\\\\hat{{p}} & {{{sy.latex(resultB[2])}}} \\\\\\\\\n",
    "    &\\\\hat{{x}} & {{{sy.latex(resultB[3])}}} \\\\\\\\\n",
    "    &\\\\hat{{x}}^2 & {{{sy.latex(resultB[5])}}}\\\\\\\\\n",
    "    &\\\\hat{{1}} & {{{sy.latex(resultB[4])}}}\n",
    "\\\\end{{align}}\n",
    "\"\"\")"
   ]
  },
  {
   "cell_type": "code",
   "execution_count": 44,
   "id": "787d1cbc",
   "metadata": {},
   "outputs": [
    {
     "data": {
      "image/png": "[encoded data removed]",
      "text/latex": [
       "$\\displaystyle 0$"
      ],
      "text/plain": [
       "0"
      ]
     },
     "metadata": {},
     "output_type": "display_data"
    },
    {
     "data": {
      "image/png": "[encoded data removed]",
      "text/latex": [
       "$\\displaystyle - i T^{2} g k$"
      ],
      "text/plain": [
       "    2    \n",
       "-ⅈ⋅T ⋅g⋅k"
      ]
     },
     "metadata": {},
     "output_type": "display_data"
    }
   ],
   "source": [
    "spA=resultA[1]*sy.symbols('\\hat{p}')\n",
    "sxA=resultA[3]*sy.symbols('\\hat{x}')\n",
    "sphiA=resultA[4]\n",
    "# Show me the operator part\n",
    "display(sy.expand(spA+sxA))\n",
    "# Show me the non-operator part\n",
    "display(sphiA)"
   ]
  },
  {
   "cell_type": "code",
   "execution_count": 45,
   "id": "71422968",
   "metadata": {},
   "outputs": [
    {
     "data": {
      "image/png": "[encoded data removed]",
      "text/latex": [
       "$\\displaystyle 0$"
      ],
      "text/plain": [
       "0"
      ]
     },
     "metadata": {},
     "output_type": "display_data"
    },
    {
     "data": {
      "image/png": "[encoded data removed]",
      "text/latex": [
       "$\\displaystyle - i T^{2} g k$"
      ],
      "text/plain": [
       "    2    \n",
       "-ⅈ⋅T ⋅g⋅k"
      ]
     },
     "metadata": {},
     "output_type": "display_data"
    }
   ],
   "source": [
    "spB=resultB[1]*sy.symbols('\\hat{p}')\n",
    "sxB=resultB[3]*sy.symbols('\\hat{x}')\n",
    "sphiB=resultB[4]\n",
    "# Show me the operator part\n",
    "display(sy.expand(spB+sxB))\n",
    "# Show me the non-operator part\n",
    "display(sphiB)"
   ]
  },
  {
   "cell_type": "code",
   "execution_count": 37,
   "id": "3b0e1e1f",
   "metadata": {},
   "outputs": [
    {
     "data": {
      "image/png": "[encoded data removed]",
      "text/latex": [
       "$\\displaystyle - \\frac{2 i T^{3} \\hat{p} k Ω^{2}}{m} - \\frac{2 i T^{2} T_{w} \\hat{p} k Ω^{2}}{m} - 2 i T^{2} \\hat{x} k Ω^{2}$"
      ],
      "text/plain": [
       "       3            2        2                2                      \n",
       "  2⋅ⅈ⋅T ⋅\\hat{p}⋅k⋅Ω    2⋅ⅈ⋅T ⋅T_w⋅\\hat{p}⋅k⋅Ω         2            2\n",
       "- ─────────────────── - ─────────────────────── - 2⋅ⅈ⋅T ⋅\\hat{x}⋅k⋅Ω \n",
       "           m                       m                                 "
      ]
     },
     "execution_count": 37,
     "metadata": {},
     "output_type": "execute_result"
    }
   ],
   "source": [
    "sy.expand(spB+sxB)+sy.expand(spA+sxA)"
   ]
  },
  {
   "cell_type": "code",
   "execution_count": 36,
   "id": "ca617a80",
   "metadata": {},
   "outputs": [
    {
     "data": {
      "image/png": "[encoded data removed]",
      "text/latex": [
       "$\\displaystyle \\frac{7 i T^{4} g k Ω^{2}}{6} + \\frac{7 i T^{4} g_{m} k Ω^{2}}{6} + 2 i T^{3} T_{w} g k Ω^{2} + 2 i T^{3} T_{w} g_{m} k Ω^{2} - \\frac{i T^{3} \\hbar k^{2} Ω^{2}}{m} + i T^{2} T_{w}^{2} g k Ω^{2} + i T^{2} T_{w}^{2} g_{m} k Ω^{2} - \\frac{i T^{2} T_{w} \\hbar k^{2} Ω^{2}}{m} - 2 i T^{2} g k - 2 i T^{2} g_{m} k + 2 i T^{2} k x_{\\Omega} Ω^{2}$"
      ],
      "text/plain": [
       "     4      2        4       2                                               3\n",
       "7⋅ⅈ⋅T ⋅g⋅k⋅Ω    7⋅ⅈ⋅T ⋅gₘ⋅k⋅Ω         3          2        3           2   ⅈ⋅T \n",
       "───────────── + ────────────── + 2⋅ⅈ⋅T ⋅T_w⋅g⋅k⋅Ω  + 2⋅ⅈ⋅T ⋅T_w⋅gₘ⋅k⋅Ω  - ────\n",
       "      6               6                                                       \n",
       "\n",
       "    2  2                                             2        2  2            \n",
       "⋅h̅⋅k ⋅Ω       2    2      2      2    2       2   ⅈ⋅T ⋅T_w⋅h̅⋅k ⋅Ω         2 \n",
       "──────── + ⅈ⋅T ⋅T_w ⋅g⋅k⋅Ω  + ⅈ⋅T ⋅T_w ⋅gₘ⋅k⋅Ω  - ──────────────── - 2⋅ⅈ⋅T ⋅g⋅\n",
       " m                                                       m                    \n",
       "\n",
       "                                      \n",
       "           2             2             2\n",
       "k - 2⋅ⅈ⋅T ⋅gₘ⋅k + 2⋅ⅈ⋅T ⋅k⋅x_\\Omega⋅Ω \n",
       "                                      "
      ]
     },
     "metadata": {},
     "output_type": "display_data"
    }
   ],
   "source": [
    "display(sphiB+sphiA)"
   ]
  },
  {
   "cell_type": "code",
   "execution_count": null,
   "id": "db922ba5",
   "metadata": {},
   "outputs": [],
   "source": [
    "# Just gimme the result for comparison with Matthias's expressions\n",
    "from sympy import I\n",
    "\n",
    "# Define magnetic gradients\n",
    "mub=sy.symbols(\"\\mu_{B}\")\n",
    "gfj=sy.symbols(\"g_{F_j}\") \n",
    "mfj=sy.symbols(\"m_{F_j}\")\n",
    "x = sy.symbols(\"x\")\n",
    "Bx=sy.Function('B_x')(x)\n",
    "r=sy.Mul(sy.Mul(sy.Mul(mub,gfj),mfj),sy.diff(Bx,x)).subs(x,\"x_0\")"
   ]
  },
  {
   "cell_type": "code",
   "execution_count": null,
   "id": "97f6a516",
   "metadata": {
    "scrolled": true
   },
   "outputs": [],
   "source": [
    "# Give me the result for vanishing state dependent accelerations\n",
    "print('No state-dependent linear magnetic potential')\n",
    "display(sy.collect(sy.expand((sp+sx+sphi)/I).subs(gmag,0),k*wtrap**2*T**2))\n",
    "\n",
    "# Give me the result for non-vanishing state dependent accelerations (substituted and without)\n",
    "print('Only state-dependent linear magnetic potential')\n",
    "display(sy.collect(sy.expand((sp+sx+sphi)/I),k*wtrap**2*T**2).subs(ggrav,0))\n",
    "print('Substituted definition of state-dependent linear potential')\n",
    "display(sy.collect(sy.expand((sp+sx+sphi)/I).subs(gmag,r/m),k*wtrap**2*T**2))"
   ]
  },
  {
   "cell_type": "code",
   "execution_count": null,
   "id": "19405aad",
   "metadata": {},
   "outputs": [],
   "source": []
  }
 ],
 "metadata": {
  "kernelspec": {
   "display_name": "Python 3 (ipykernel)",
   "language": "python",
   "name": "python3"
  },
  "language_info": {
   "codemirror_mode": {
    "name": "ipython",
    "version": 3
   },
   "file_extension": ".py",
   "mimetype": "text/x-python",
   "name": "python",
   "nbconvert_exporter": "python",
   "pygments_lexer": "ipython3",
   "version": "3.10.7"
  }
 },
 "nbformat": 4,
 "nbformat_minor": 5
}
