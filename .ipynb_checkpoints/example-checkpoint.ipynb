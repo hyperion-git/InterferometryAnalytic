{
 "cells": [
  {
   "cell_type": "code",
   "execution_count": 116,
   "id": "c55b109a",
   "metadata": {},
   "outputs": [],
   "source": [
    "# jupyter notebook with an example for an interferometer calculation\n",
    "\n",
    "import sympy as sy\n",
    "from sympy import I\n",
    "from IPython.display import Latex\n",
    "\n",
    "\n",
    "from Interferometry import Interferometer, Hamiltonian, Pulse, U\n",
    "\n",
    "# define symbolic variables\n",
    "m1,m2,g1,g2,k,T,m,gmag,wtrap,gravgrad1,gravgrad2,xtrap=sy.symbols(\"m1,m2,g1,g2,k,T,m,g_m,Ω,γ1,γ2,x_\\Omega\")\n",
    "\n",
    "gfexp = sy.symbols(\"\\mu_B g_{F_j} m_{F_j}\")\n",
    "\n",
    "sy.init_printing()"
   ]
  },
  {
   "cell_type": "markdown",
   "id": "6bc898ec",
   "metadata": {},
   "source": [
    "\n",
    "\n",
    "Define Hamiltonians by passing a parameter list [a,b,c,d,e,f]\n",
    " corresponding to the Hamiltonian\n",
    " $H=a p^2 + b p +c(px+xp) + d x + e + f x^2$ \n",
    " "
   ]
  },
  {
   "cell_type": "code",
   "execution_count": 105,
   "id": "4bd16e9f",
   "metadata": {},
   "outputs": [
    {
     "name": "stdout",
     "output_type": "stream",
     "text": [
      "Hamiltonian is:\n"
     ]
    },
    {
     "data": {
      "image/png": "[encoded data removed]",
      "text/latex": [
       "$\\displaystyle \\frac{\\hat{p}^{2}}{2 m} + \\frac{\\hat{x}^{2} m Ω^{2}}{2} + \\hat{x} \\left(g_{m} m - m x_{\\Omega} Ω^{2}\\right) + \\frac{m x_{\\Omega}^{2} Ω^{2}}{2}$"
      ],
      "text/plain": [
       "       2          2    2                                              2  2\n",
       "\\hat{p}    \\hat{x} ⋅m⋅Ω            ⎛                   2⎞   m⋅x_\\Omega ⋅Ω \n",
       "──────── + ───────────── + \\hat{x}⋅⎝gₘ⋅m - m⋅x_\\Omega⋅Ω ⎠ + ──────────────\n",
       "  2⋅m            2                                                2       "
      ]
     },
     "metadata": {},
     "output_type": "display_data"
    },
    {
     "name": "stdout",
     "output_type": "stream",
     "text": [
      "\n"
     ]
    }
   ],
   "source": [
    "H=Hamiltonian([1/(2*m), 0,0,m*gmag-m*wtrap**2*ztrap,m/2*wtrap**2 *xtrap**2,m/2*wtrap**2])\n",
    "\n",
    "print('Hamiltonian is:')         \n",
    "print(H)"
   ]
  },
  {
   "cell_type": "markdown",
   "id": "95e1618c",
   "metadata": {},
   "source": [
    "Define upper and lower sequence (note the ordering of operators is the same as if acting on a initial ket state)"
   ]
  },
  {
   "cell_type": "code",
   "execution_count": 106,
   "id": "a4c2d5f8",
   "metadata": {},
   "outputs": [],
   "source": [
    "upperSequence=[U(H,T),  Pulse(-k), U(H,T), Pulse(k)] \n",
    "lowerSequence=[Pulse(-k),  U(H,T),  Pulse(k), U(H,T)]"
   ]
  },
  {
   "cell_type": "markdown",
   "id": "4d2c4eb2",
   "metadata": {},
   "source": [
    "Initialize an interferometer object with the upper and lower sequence"
   ]
  },
  {
   "cell_type": "code",
   "execution_count": 109,
   "id": "c043fdc1",
   "metadata": {},
   "outputs": [
    {
     "data": {
      "image/png": "[encoded data removed]",
      "text/latex": [
       "$\\displaystyle \\frac{i T^{3} \\hat{p} k Ω^{2} \\cdot \\left(16 T^{4} Ω^{4} + 237 T^{2} Ω^{2} - 864\\right)}{864 m} + \\frac{i T^{2} \\hat{x} k Ω^{2} \\left(T^{6} Ω^{6} + 33 T^{4} Ω^{4} + 522 T^{2} Ω^{2} - 864\\right)}{864} + \\frac{i T^{2} k \\left(- 11 T^{9} \\hbar k Ω^{10} - 216 T^{7} \\hbar k Ω^{8} + 576 T^{6} g_{m} m Ω^{6} - 576 T^{6} m x_{\\Omega} Ω^{8} + 3312 T^{5} \\hbar k Ω^{6} + 19008 T^{4} g_{m} m Ω^{4} - 19008 T^{4} m x_{\\Omega} Ω^{6} + 66240 T^{3} \\hbar k Ω^{4} + 300672 T^{2} g_{m} m Ω^{2} - 300672 T^{2} m x_{\\Omega} Ω^{4} - 228096 T \\hbar k Ω^{2} - 497664 g_{m} m + 497664 m x_{\\Omega} Ω^{2}\\right)}{497664 m}$"
      ],
      "text/plain": [
       "   3            2 ⎛    4  4        2  2      ⎞      2            2 ⎛ 6  6     \n",
       "ⅈ⋅T ⋅\\hat{p}⋅k⋅Ω ⋅⎝16⋅T ⋅Ω  + 237⋅T ⋅Ω  - 864⎠   ⅈ⋅T ⋅\\hat{x}⋅k⋅Ω ⋅⎝T ⋅Ω  + 33\n",
       "────────────────────────────────────────────── + ─────────────────────────────\n",
       "                    864⋅m                                                 864 \n",
       "\n",
       "  4  4        2  2      ⎞      2   ⎛      9      10        7      8        6  \n",
       "⋅T ⋅Ω  + 522⋅T ⋅Ω  - 864⎠   ⅈ⋅T ⋅k⋅⎝- 11⋅T ⋅h̅⋅k⋅Ω   - 216⋅T ⋅h̅⋅k⋅Ω  + 576⋅T \n",
       "───────────────────────── + ──────────────────────────────────────────────────\n",
       "                                                                              \n",
       "\n",
       "     6        6             8         5      6          4       4          4  \n",
       "⋅gₘ⋅m⋅Ω  - 576⋅T ⋅m⋅x_\\Omega⋅Ω  + 3312⋅T ⋅h̅⋅k⋅Ω  + 19008⋅T ⋅gₘ⋅m⋅Ω  - 19008⋅T\n",
       "──────────────────────────────────────────────────────────────────────────────\n",
       "                                                                            49\n",
       "\n",
       "           6          3      4           2       2           2             4  \n",
       " ⋅m⋅x_\\Omega⋅Ω  + 66240⋅T ⋅h̅⋅k⋅Ω  + 300672⋅T ⋅gₘ⋅m⋅Ω  - 300672⋅T ⋅m⋅x_\\Omega⋅\n",
       "──────────────────────────────────────────────────────────────────────────────\n",
       "7664⋅m                                                                        \n",
       "\n",
       "               2                                    2⎞\n",
       "Ω  - 228096⋅T⋅h̅⋅k⋅Ω  - 497664⋅gₘ⋅m + 497664⋅m⋅x_\\Omega⋅Ω ⎠\n",
       "──────────────────────────────────────────────────────\n",
       "                                                      "
      ]
     },
     "metadata": {},
     "output_type": "display_data"
    },
    {
     "data": {
      "text/plain": []
     },
     "execution_count": 109,
     "metadata": {},
     "output_type": "execute_result"
    }
   ],
   "source": [
    "I=Interferometer(upperSequence, lowerSequence)\n",
    "\n",
    "#calculate overlap operator\n",
    "resdict,res=I.phase()\n",
    "res"
   ]
  },
  {
   "cell_type": "code",
   "execution_count": 110,
   "id": "78ebfdff",
   "metadata": {},
   "outputs": [
    {
     "data": {
      "text/latex": [
       "\n",
       "\\begin{align}\n",
       "    &\\hat{p}^2 & {0} \\\\\n",
       "    &\\hat{p} & {- \\frac{i T^{3} k Ω^{2}}{m} + \\frac{79 i T^{5} k Ω^{4}}{288 m} + O\\left(T^{6}\\right)} \\\\\n",
       "    &\\hat{p}\\hat{x}+\\hat{x}\\hat{p} & {0} \\\\\n",
       "    &\\hat{x} & {- i T^{2} k Ω^{2} + \\frac{29 i T^{4} k Ω^{4}}{48} + O\\left(T^{6}\\right)} \\\\\n",
       "    &\\hat{x}^2 & {0}\\\\\n",
       "    &\\hat{1} & {i T^{2} k x_{\\Omega} Ω^{2} - i T^{2} g_{m} k - \\frac{11 i T^{3} \\hbar k^{2} Ω^{2}}{24 m} - \\frac{29 i T^{4} k x_{\\Omega} Ω^{4}}{48} + \\frac{29 i T^{4} g_{m} k Ω^{2}}{48} + \\frac{115 i T^{5} \\hbar k^{2} Ω^{4}}{864 m} + O\\left(T^{6}\\right)}\n",
       "\\end{align}\n"
      ],
      "text/plain": [
       "<IPython.core.display.Latex object>"
      ]
     },
     "execution_count": 110,
     "metadata": {},
     "output_type": "execute_result"
    }
   ],
   "source": [
    "# Clean up and expand everything in interferometer duration\n",
    "order=6\n",
    "expandvar=T\n",
    "\n",
    "resultBeautifyer = lambda x: sy.expand(sy.series(x,expandvar,n=order))\n",
    "\n",
    "result=[resultBeautifyer(res.a),\n",
    "        resultBeautifyer(res.b),\n",
    "        resultBeautifyer(res.c),\n",
    "        resultBeautifyer(res.d),\n",
    "        resultBeautifyer(res.e),\n",
    "        resultBeautifyer(res.f)]\n",
    "\n",
    "# Show me the operator coefficients of exp(i O(x,p))\n",
    "Latex(f\"\"\"\n",
    "\\\\begin{{align}}\n",
    "    &\\\\hat{{p}}^2 & {{{sy.latex(result[0])}}} \\\\\\\\\n",
    "    &\\\\hat{{p}} & {{{sy.latex(result[1])}}} \\\\\\\\\n",
    "    &\\\\hat{{p}}\\\\hat{{x}}+\\\\hat{{x}}\\\\hat{{p}} & {{{sy.latex(result[2])}}} \\\\\\\\\n",
    "    &\\\\hat{{x}} & {{{sy.latex(result[3])}}} \\\\\\\\\n",
    "    &\\\\hat{{x}}^2 & {{{sy.latex(result[5])}}}\\\\\\\\\n",
    "    &\\\\hat{{1}} & {{{sy.latex(result[4])}}}\n",
    "\\\\end{{align}}\n",
    "\"\"\")"
   ]
  },
  {
   "cell_type": "code",
   "execution_count": 113,
   "id": "787d1cbc",
   "metadata": {},
   "outputs": [
    {
     "data": {
      "image/png": "[encoded data removed]",
      "text/latex": [
       "$\\displaystyle - i T^{2} \\hat{x} k Ω^{2} - \\frac{i T^{3} \\hat{p} k Ω^{2}}{m} + \\frac{29 i T^{4} \\hat{x} k Ω^{4}}{48} + \\frac{79 i T^{5} \\hat{p} k Ω^{4}}{288 m} + O\\left(T^{6}\\right)$"
      ],
      "text/plain": [
       "                         3            2         4            4         5      \n",
       "     2            2   ⅈ⋅T ⋅\\hat{p}⋅k⋅Ω    29⋅ⅈ⋅T ⋅\\hat{x}⋅k⋅Ω    79⋅ⅈ⋅T ⋅\\hat{\n",
       "- ⅈ⋅T ⋅\\hat{x}⋅k⋅Ω  - ───────────────── + ──────────────────── + ─────────────\n",
       "                              m                    48                   288⋅m \n",
       "\n",
       "      4        \n",
       "p}⋅k⋅Ω     ⎛ 6⎞\n",
       "─────── + O⎝T ⎠\n",
       "               "
      ]
     },
     "metadata": {},
     "output_type": "display_data"
    },
    {
     "data": {
      "image/png": "[encoded data removed]",
      "text/latex": [
       "$\\displaystyle i T^{2} k x_{\\Omega} Ω^{2} - i T^{2} g_{m} k - \\frac{11 i T^{3} \\hbar k^{2} Ω^{2}}{24 m} - \\frac{29 i T^{4} k x_{\\Omega} Ω^{4}}{48} + \\frac{29 i T^{4} g_{m} k Ω^{2}}{48} + \\frac{115 i T^{5} \\hbar k^{2} Ω^{4}}{864 m} + O\\left(T^{6}\\right)$"
      ],
      "text/plain": [
       "                                       3    2  2         4             4      \n",
       "   2             2      2        11⋅ⅈ⋅T ⋅h̅⋅k ⋅Ω    29⋅ⅈ⋅T ⋅k⋅x_\\Omega⋅Ω    29\n",
       "ⅈ⋅T ⋅k⋅x_\\Omega⋅Ω  - ⅈ⋅T ⋅gₘ⋅k - ─────────────── - ───────────────────── + ───\n",
       "                                       24⋅m                  48               \n",
       "\n",
       "   4       2          5    2  4        \n",
       "⋅ⅈ⋅T ⋅gₘ⋅k⋅Ω    115⋅ⅈ⋅T ⋅h̅⋅k ⋅Ω     ⎛ 6⎞\n",
       "──────────── + ──────────────── + O⎝T ⎠\n",
       "    48              864⋅m              "
      ]
     },
     "metadata": {},
     "output_type": "display_data"
    }
   ],
   "source": [
    "sp=result[1]*sy.symbols('\\hat{p}')\n",
    "sx=result[3]*sy.symbols('\\hat{x}')\n",
    "sphi=result[4]\n",
    "# Show me the operator part\n",
    "display(sy.expand(sp+sx))\n",
    "# Show me the non-operator part\n",
    "display(sphi)"
   ]
  },
  {
   "cell_type": "code",
   "execution_count": 194,
   "id": "22b215e0",
   "metadata": {},
   "outputs": [
    {
     "data": {
      "image/png": "[encoded data removed]",
      "text/latex": [
       "$\\displaystyle - T^{2} k Ω^{2} \\left(\\hat{x} + \\frac{11 T \\hbar k}{24 m} + \\frac{T \\hat{p}}{m} + \\frac{29 T^{2} x_{\\Omega} Ω^{2}}{48} + O\\left(T^{6}\\right)\\right) + T^{2} k x_{\\Omega} Ω^{2} + \\frac{29 T^{4} \\hat{x} k Ω^{4}}{48} + \\frac{115 T^{5} \\hbar k^{2} Ω^{4}}{864 m} + \\frac{79 T^{5} \\hat{p} k Ω^{4}}{288 m} + O\\left(T^{6}\\right)$"
      ],
      "text/plain": [
       "          ⎛                                     2           2        ⎞        \n",
       "   2    2 ⎜          11⋅T⋅h̅⋅k   T⋅\\hat{p}   29⋅T ⋅x_\\Omega⋅Ω     ⎛ 6⎞⎟    2  \n",
       "- T ⋅k⋅Ω ⋅⎜\\hat{x} + ──────── + ───────── + ───────────────── + O⎝T ⎠⎟ + T ⋅k⋅\n",
       "          ⎝            24⋅m         m               48               ⎠        \n",
       "\n",
       "                  4            4        5    2  4       5            4        \n",
       "           2   29⋅T ⋅\\hat{x}⋅k⋅Ω    115⋅T ⋅h̅⋅k ⋅Ω    79⋅T ⋅\\hat{p}⋅k⋅Ω     ⎛ \n",
       "x_\\Omega⋅Ω  + ────────────────── + ────────────── + ────────────────── + O⎝T ⎠\n",
       "                      48               864⋅m              288⋅m               "
      ]
     },
     "execution_count": 194,
     "metadata": {},
     "output_type": "execute_result"
    }
   ],
   "source": [
    "# Just gimme the result for comparison with Matthias's expressions\n",
    "\n",
    "mub=sy.symbols(\"\\mu_B\")\n",
    "gfj=sy.symbols(\"g_{F_j}\") \n",
    "mfj=sy.symbols(\"m_{F_j}\")\n",
    "x = sy.symbols(\"x\")\n",
    "Bx=sy.Function('B')(x)\n",
    "\n",
    "r=sy.Mul(sy.Mul(sy.Mul(mub,gfj),mfj),sy.diff(Bx,x))\n",
    "\n",
    "from sympy import I\n",
    "sy.collect(sy.expand((sp+sx+sphi)/I).subs(gmag,0),-k*wtrap**2*T**2)"
   ]
  },
  {
   "cell_type": "code",
   "execution_count": 193,
   "id": "30d31077",
   "metadata": {},
   "outputs": [
    {
     "data": {
      "image/png": "[encoded data removed]",
      "text/latex": [
       "$\\displaystyle \\mu_{B} g_{F_j} m_{F_j} \\frac{d}{d x} B{\\left(x \\right)}$"
      ],
      "text/plain": [
       "                      d       \n",
       "\\mu_B⋅g_{F_j}⋅m_{F_j}⋅──(B(x))\n",
       "                      dx      "
      ]
     },
     "execution_count": 193,
     "metadata": {},
     "output_type": "execute_result"
    }
   ],
   "source": []
  },
  {
   "cell_type": "code",
   "execution_count": 196,
   "id": "26ab81c8",
   "metadata": {},
   "outputs": [
    {
     "data": {
      "image/png": "[encoded data removed]",
      "text/latex": [
       "$\\displaystyle T^{2} k Ω^{2} \\left(x_{\\Omega} - \\hat{x} - \\frac{11 T \\hbar k}{24 m} - \\frac{T \\hat{p}}{m} - \\frac{29 T^{2} x_{\\Omega} Ω^{2}}{48} + \\frac{29 T^{2} \\mu_{B} g_{F_j} m_{F_j} \\frac{d}{d x_{0}} B{\\left(x_{0} \\right)}}{48} + \\frac{29 T^{2} \\hat{x} Ω^{2}}{48} + \\frac{79 T^{3} \\hat{p} Ω^{2}}{288 m} + O\\left(T^{6}\\right)\\right) - T^{2} \\mu_{B} g_{F_j} k m_{F_j} \\frac{d}{d x_{0}} B{\\left(x_{0} \\right)} + T^{4} k^{2} Ω^{4} \\cdot \\left(\\frac{115 T \\hbar}{864 m} + O\\left(T^{6}\\right)\\right) + O\\left(T^{6}\\right)$"
      ],
      "text/plain": [
       "        ⎛                                                                    2\n",
       "        ⎜                                                2           2   29⋅T \n",
       " 2    2 ⎜                     11⋅T⋅h̅⋅k   T⋅\\hat{p}   29⋅T ⋅x_\\Omega⋅Ω        \n",
       "T ⋅k⋅Ω ⋅⎜x_\\Omega - \\hat{x} - ──────── - ───────── - ───────────────── + ─────\n",
       "        ⎝                       24⋅m         m               48               \n",
       "\n",
       "                        d                                                     \n",
       "⋅\\mu_B⋅g_{F_j}⋅m_{F_j}⋅───(B(x₀))       2          2       3          2       \n",
       "                        dx₀          29⋅T ⋅\\hat{x}⋅Ω    79⋅T ⋅\\hat{p}⋅Ω     ⎛ \n",
       "───────────────────────────────── + ──────────────── + ──────────────── + O⎝T \n",
       "             48                            48               288⋅m             \n",
       "\n",
       " ⎞                                                                            \n",
       " ⎟                                                                            \n",
       "6⎞⎟    2                          d            4  2  4 ⎛115⋅T⋅h̅    ⎛ 6⎞⎞    ⎛\n",
       "⎠⎟ - T ⋅\\mu_B⋅g_{F_j}⋅k⋅m_{F_j}⋅───(B(x₀)) + T ⋅k ⋅Ω ⋅⎜─────── + O⎝T ⎠⎟ + O⎝T \n",
       " ⎠                              dx₀                   ⎝ 864⋅m         ⎠       \n",
       "\n",
       " \n",
       " \n",
       " 6⎞\n",
       "⎠\n",
       " "
      ]
     },
     "execution_count": 196,
     "metadata": {},
     "output_type": "execute_result"
    }
   ],
   "source": [
    "sy.collect(sy.expand((sp+sx+sphi)/I).subs(gmag,r),k*wtrap**2*T**2).subs(x,\"x_0\")"
   ]
  },
  {
   "cell_type": "code",
   "execution_count": null,
   "id": "42415969",
   "metadata": {},
   "outputs": [],
   "source": []
  }
 ],
 "metadata": {
  "kernelspec": {
   "display_name": "Python 3 (ipykernel)",
   "language": "python",
   "name": "python3"
  },
  "language_info": {
   "codemirror_mode": {
    "name": "ipython",
    "version": 3
   },
   "file_extension": ".py",
   "mimetype": "text/x-python",
   "name": "python",
   "nbconvert_exporter": "python",
   "pygments_lexer": "ipython3",
   "version": "3.10.7"
  }
 },
 "nbformat": 4,
 "nbformat_minor": 5
}
